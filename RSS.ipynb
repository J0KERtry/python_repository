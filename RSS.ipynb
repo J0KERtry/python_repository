{
  "nbformat": 4,
  "nbformat_minor": 0,
  "metadata": {
    "colab": {
      "provenance": [],
      "authorship_tag": "ABX9TyP97fefx4US5WOYVw92atC4",
      "include_colab_link": true
    },
    "kernelspec": {
      "name": "python3",
      "display_name": "Python 3"
    },
    "language_info": {
      "name": "python"
    }
  },
  "cells": [
    {
      "cell_type": "markdown",
      "metadata": {
        "id": "view-in-github",
        "colab_type": "text"
      },
      "source": [
        "<a href=\"https://colab.research.google.com/github/J0KERtry/python_repository/blob/main/RSS.ipynb\" target=\"_parent\"><img src=\"https://colab.research.google.com/assets/colab-badge.svg\" alt=\"Open In Colab\"/></a>"
      ]
    },
    {
      "cell_type": "code",
      "execution_count": 183,
      "metadata": {
        "colab": {
          "base_uri": "https://localhost:8080/"
        },
        "id": "lDkIIauG2aXF",
        "outputId": "36eccec7-7200-4fbe-9396-8861e2584e67"
      },
      "outputs": [
        {
          "output_type": "stream",
          "name": "stdout",
          "text": [
            "Looking in indexes: https://pypi.org/simple, https://us-python.pkg.dev/colab-wheels/public/simple/\n",
            "Requirement already satisfied: feedparser in /usr/local/lib/python3.8/dist-packages (6.0.10)\n",
            "Requirement already satisfied: sgmllib3k in /usr/local/lib/python3.8/dist-packages (from feedparser) (1.0.0)\n"
          ]
        }
      ],
      "source": [
        "!pip install feedparser\n",
        "import feedparser\n",
        "import sys"
      ]
    },
    {
      "cell_type": "markdown",
      "source": [
        "#### 変換したいRSSの登録"
      ],
      "metadata": {
        "id": "pF9-36_HXXtF"
      }
    },
    {
      "cell_type": "code",
      "source": [
        "# URLをファイルに書き込み\n",
        "with open('RSS_url.txt', 'w') as f:\n",
        "     print('https://tech.uzabase.com/rss', file=f)\n",
        "     ### 複数のURLを登録したい場合はここに続けて記入 ###"
      ],
      "metadata": {
        "id": "MIUt-rLlUaVp"
      },
      "execution_count": 204,
      "outputs": []
    },
    {
      "cell_type": "markdown",
      "source": [
        "#### 削除する文字列を登録"
      ],
      "metadata": {
        "id": "cLIebWlgX25l"
      }
    },
    {
      "cell_type": "code",
      "source": [
        "# 削除する文字列をファイルに書き込み\n",
        "with open('Remove_str.txt', 'w') as f:\n",
        "    print('NewsPicks', file=f)\n",
        "    ### 削除文字を登録したい場合はここに続けて記入 ###"
      ],
      "metadata": {
        "id": "Zl7q0KadX2Cf"
      },
      "execution_count": 205,
      "outputs": []
    },
    {
      "cell_type": "markdown",
      "source": [
        "#### RSS内の\"entries\"から\"summary\"を抽出 ＆ 登録文字列削除"
      ],
      "metadata": {
        "id": "Lltm588BXePO"
      }
    },
    {
      "cell_type": "code",
      "source": [
        "# RSSを1行ずつリストに格納\n",
        "with open('RSS_url.txt', 'r') as url_file:\n",
        "    url_list = url_file.read().splitlines()\n",
        "\n",
        "# 削除文字を読み込みリストに格納\n",
        "with open('Remove_str.txt', 'r') as str_file:\n",
        "    str_list = str_file.read().splitlines()\n",
        "\n",
        "# RSSから文字列を削除\n",
        "for url in url_list:\n",
        "    result = ''\n",
        "    text = feedparser.parse(url)\n",
        "    ##############################\n",
        "    for entry in text.entries:    \n",
        "        title = entry['title']\n",
        "        summary = entry['summary'] \n",
        "        for str in str_list:\n",
        "            title = title.replace(str, '')\n",
        "            summary = summary.replace(str, '')\n",
        "        result += title + '\\n' + summary + '\\n' + '\\n'\n",
        "    ###############################\n",
        "\n",
        "    # 変換後の文字列をファイルに出力\n",
        "    file_name = '{}.txt'.format(url.replace('https:', '').replace('/', '').replace('.com', ''))\n",
        "    with open(file_name, 'w') as f:\n",
        "        print(result, file=f)\n",
        "    print(result)"
      ],
      "metadata": {
        "id": "v0dGKNFi2rtp"
      },
      "execution_count": null,
      "outputs": []
    },
    {
      "cell_type": "code",
      "source": [],
      "metadata": {
        "id": "dA_6Ag_xOpFC"
      },
      "execution_count": 207,
      "outputs": []
    }
  ]
}