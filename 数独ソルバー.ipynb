{
  "nbformat": 4,
  "nbformat_minor": 0,
  "metadata": {
    "colab": {
      "provenance": [],
      "authorship_tag": "ABX9TyOf0HNjHVPxhwNBXPH5nC/N",
      "include_colab_link": true
    },
    "kernelspec": {
      "name": "python3",
      "display_name": "Python 3"
    },
    "language_info": {
      "name": "python"
    }
  },
  "cells": [
    {
      "cell_type": "markdown",
      "metadata": {
        "id": "view-in-github",
        "colab_type": "text"
      },
      "source": [
        "<a href=\"https://colab.research.google.com/github/J0KERtry/python_repository/blob/main/%E6%95%B0%E7%8B%AC%E3%82%BD%E3%83%AB%E3%83%90%E3%83%BC.ipynb\" target=\"_parent\"><img src=\"https://colab.research.google.com/assets/colab-badge.svg\" alt=\"Open In Colab\"/></a>"
      ]
    },
    {
      "cell_type": "code",
      "source": [
        "import numpy as np \n",
        "import math\n",
        "import copy\n",
        "import time\n",
        "\n",
        "\"数独のサイズ決定し、サイズからファイルを選択\"\n",
        "num = 4\n",
        "if num == 4:\n",
        "  file_name = '4-4.txt'\n",
        "elif num == 9:\n",
        "  file_name = '9-9.txt'\n",
        "elif num == 16:\n",
        "  file_name = '16-16.txt'\n",
        "\n",
        "\n",
        "\"テキストファイルをリストに格納\"\n",
        "data = []  # 結果を入れるリスト\n",
        "with open(file_name,'r', encoding='utf-8') as file:\n",
        "    for line in file.readlines():  # 行をすべて読み込んで1行ずつfor文で回す\n",
        "        row = []  # 行のデータを保存するリスト\n",
        "        toks = line.split(' ')  # 行を半角スペースで分割する\n",
        "        for tok in toks:  # 分割した列を回す\n",
        "            num = int(tok)  # 整数に変換\n",
        "            row.append(num)  # 行に保存\n",
        "        data.append(row)  # 行をdataに保存\n",
        "\n",
        "\n",
        "#横をチェック\n",
        "def row(values, y, i, num):\n",
        "    return all(True if i != values[y][_x] else False for _x in range(num))\n",
        "\n",
        "#縦をチェック\"\n",
        "def column(values, x, i, num):    \n",
        "    return all(True if i != values[_y][x] else False for _y in range(num))\n",
        "\n",
        "#num x numのブロックをチェック\"\n",
        "def block(values, x, y, i, num):\n",
        "    mass = int(math.sqrt(num))\n",
        "    xbase = (x // mass) * mass\n",
        "    ybase = (y // mass) * mass\n",
        "    return all(True if i != values[_y][_x] else False\n",
        "            for _y in range(ybase, ybase + mass)\n",
        "                for _x in range(xbase, xbase + mass))\n",
        "\n",
        "#すべてのチェックを満たしているかチェック\n",
        "def check(values, x, y, i, num):\n",
        "    return all([row(values, y, i, num), column(values, x, i, num), block(values, x, y, i, num)])\n",
        "\n",
        "\n",
        "\"入れられる数の少ないリスト番号を返す\"\n",
        "def count(values, num):\n",
        "  min = num\n",
        "  min_x, min_y = -1, -1   # 候補の個数が少ない座標を保存\n",
        "  result = []   # 入る候補の数字を保存\n",
        "\n",
        "  for y in range(num):\n",
        "    for x in range(num):\n",
        "      if values[y][x] == 0:  # マスが0のとき\n",
        "        list = []\n",
        "        for i in range(1, num+1):\n",
        "          if check(values, x, y, i, num): # 入れられる数字を追加\n",
        "            list.append(i)\n",
        "        if (min > len(list)): # 入れられる候補の少ないものが見つかったら更新\n",
        "          min = len(list)\n",
        "          result = copy.copy(list)\n",
        "          min_x, min_y = x, y\n",
        "\n",
        "  return min_x, min_y, result\n",
        "\n",
        "\n",
        "\"数独を解く\"\n",
        "def solver(values, x, y, num):\n",
        "  min_x, min_y, list = count(values, num)  # 入れられる数の少ないインデックス取得\n",
        "\n",
        "  if (min_x==-1): #終了条件\n",
        "    return True\n",
        "  for i in range(0, len(list)):\n",
        "    values[min_y][min_x] = list[i]  #数字を入れる\n",
        "    if solver(values, min_x, min_y, num):\n",
        "      return True\n",
        "    values[min_y][min_x] = 0 #戻ってきたら0に戻す    \n",
        "\n",
        "  return False\n",
        "\n",
        "\n",
        "####################\n",
        "####  実行内容  ####\n",
        "####################\n",
        "\"数独を解き、答えのリストに0が含まれる場合は解がないことを表示\"\n",
        "start = time.time()\n",
        "solver(data, 0, 0, 4)\n",
        "performance_time = time.time() - start\n",
        "if all(True if 0 in data[_y] else False for _y in range(num)):\n",
        "  print(\"解を見つけられません\")\n",
        "\n",
        "print(\"実行時間 : \", performance_time)\n",
        "for a in data:\n",
        "    print(*a)"
      ],
      "metadata": {
        "id": "dcMf_Pn87bYC",
        "colab": {
          "base_uri": "https://localhost:8080/"
        },
        "outputId": "2ec95f0a-2fcc-457a-f639-291ba47ad2aa"
      },
      "execution_count": null,
      "outputs": [
        {
          "output_type": "stream",
          "name": "stdout",
          "text": [
            "実行時間 :  0.0014462471008300781\n",
            "4 1 3 2\n",
            "2 3 1 4\n",
            "3 4 2 1\n",
            "1 2 4 3\n"
          ]
        }
      ]
    },
    {
      "cell_type": "code",
      "source": [],
      "metadata": {
        "id": "upmxaJrXRkQL"
      },
      "execution_count": null,
      "outputs": []
    }
  ]
}